{
 "cells": [
  {
   "cell_type": "code",
   "execution_count": 2,
   "metadata": {},
   "outputs": [
    {
     "name": "stdout",
     "output_type": "stream",
     "text": [
      "{\"return\":true,\"request_id\":\"9ktlp270xae1mug\",\"message\":[\"Message sent successfully to NonDND numbers\"]}\n",
      "Message Sent\n"
     ]
    }
   ],
   "source": [
    "import requests\n",
    "\n",
    "url = \"https://www.fast2sms.com/dev/bulk\"\n",
    "\n",
    "n=\"9136650357,8269541555\"\n",
    "\n",
    "mess=\"Hum hai Subodh(Compuder) Munna bhaiya ke right hand. Aap sabhi chatro se nivedan hai ki apna vote sirf Munna bhaiya ko he daale .....Samjhe..... agar Golu ki side li toh hamara Ustra tumhari side lega Dhanyavad..........[Weekly Code Battle 24]\"\n",
    "\n",
    "querystring = {\"authorization\":\"chQo1HeumDyd7kB0EICJ62pUORWfSnrMZbl9YiNstTzgVxwG48C5F4i0bR9mPl76v81ENSdTrxweusWI\",\"sender_id\":\"FSTSMS\",\"message\":mess,\"language\":\"english\",\"route\":\"p\",\"numbers\":n}\n",
    "\n",
    "headers = {\n",
    "    'cache-control': \"no-cache\"\n",
    "}\n",
    "\n",
    "response = requests.request(\"GET\", url, headers=headers, params=querystring)\n",
    "\n",
    "print(response.text)\n",
    "\n",
    "{\n",
    "    \"return\": true,\n",
    "    \"request_id\": \"lwdtp7cjyqxvfe9\",\n",
    "    \"message\": [\n",
    "        \"Message sent successfully to NonDND numbers\"\n",
    "    ]\n",
    "}\n",
    "\n",
    "{\n",
    "    \"return\": true,\n",
    "    \"request_id\": \"vrc5yp9k4sfze6t\",\n",
    "    \"message\": [\n",
    "        \"Message sent successfully\"\n",
    "    ]\n",
    "}\n"
   ]
  },
  {
   "cell_type": "code",
   "execution_count": null,
   "metadata": {},
   "outputs": [],
   "source": []
  }
 ],
 "metadata": {
  "kernelspec": {
   "display_name": "Python 3",
   "language": "python",
   "name": "python3"
  },
  "language_info": {
   "codemirror_mode": {
    "name": "ipython",
    "version": 3
   },
   "file_extension": ".py",
   "mimetype": "text/x-python",
   "name": "python",
   "nbconvert_exporter": "python",
   "pygments_lexer": "ipython3",
   "version": "3.8.3"
  }
 },
 "nbformat": 4,
 "nbformat_minor": 4
}
